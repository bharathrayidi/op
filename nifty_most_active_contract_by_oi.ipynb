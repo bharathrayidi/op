{
 "cells": [
  {
   "cell_type": "code",
   "execution_count": 7,
   "metadata": {
    "executionInfo": {
     "elapsed": 4,
     "status": "ok",
     "timestamp": 1718600348982,
     "user": {
      "displayName": "Bharath Kumar",
      "userId": "13231539308280552119"
     },
     "user_tz": -330
    },
    "id": "32f15ea8"
   },
   "outputs": [
    {
     "name": "stdout",
     "output_type": "stream",
     "text": [
      "ERROR! Session/line number was not unique in database. History logging moved to new session 186\n"
     ]
    }
   ],
   "source": [
    "from IPython.display import display, HTML,clear_output\n",
    "# css = \"\"\"\n",
    "# .output {\n",
    "# flex-direction: row;\n",
    "# flex-wrap: wrap;\n",
    "# }\n",
    "# \"\"\"\n",
    "\n",
    "# HTML('<style>{}</style>'.format(css))"
   ]
  },
  {
   "cell_type": "code",
   "execution_count": 8,
   "metadata": {
    "executionInfo": {
     "elapsed": 1699,
     "status": "ok",
     "timestamp": 1718600352364,
     "user": {
      "displayName": "Bharath Kumar",
      "userId": "13231539308280552119"
     },
     "user_tz": -330
    },
    "id": "bbc5a5b2"
   },
   "outputs": [],
   "source": [
    "import warnings\n",
    "warnings.simplefilter(action='ignore', category=FutureWarning)"
   ]
  },
  {
   "cell_type": "code",
   "execution_count": 9,
   "metadata": {
    "executionInfo": {
     "elapsed": 3023,
     "status": "ok",
     "timestamp": 1718600401741,
     "user": {
      "displayName": "Bharath Kumar",
      "userId": "13231539308280552119"
     },
     "user_tz": -330
    },
    "id": "b73540da"
   },
   "outputs": [],
   "source": [
    "# %pip install --no-cache-dir matplotlib\n",
    "\n",
    "# from pandasql import sqldf\n",
    "import requests\n",
    "import brotli\n",
    "from datetime import datetime\n",
    "import time\n",
    "from bs4 import BeautifulSoup\n",
    "import pandas as pd\n",
    "import numpy as np\n",
    "import matplotlib.pyplot as plt\n",
    "import json"
   ]
  },
  {
   "cell_type": "code",
   "execution_count": 10,
   "metadata": {
    "executionInfo": {
     "elapsed": 9,
     "status": "ok",
     "timestamp": 1718600401742,
     "user": {
      "displayName": "Bharath Kumar",
      "userId": "13231539308280552119"
     },
     "user_tz": -330
    },
    "id": "PA5eHJ_WVHyp"
   },
   "outputs": [],
   "source": [
    "pd.options.mode.copy_on_write = True"
   ]
  },
  {
   "cell_type": "code",
   "execution_count": 11,
   "metadata": {
    "executionInfo": {
     "elapsed": 8,
     "status": "ok",
     "timestamp": 1718600401742,
     "user": {
      "displayName": "Bharath Kumar",
      "userId": "13231539308280552119"
     },
     "user_tz": -330
    },
    "id": "9dc58e17"
   },
   "outputs": [
    {
     "data": {
      "text/plain": [
       "<Response [200]>"
      ]
     },
     "execution_count": 11,
     "metadata": {},
     "output_type": "execute_result"
    }
   ],
   "source": [
    "origin_url=\"https://www.nseindia.com/market-data/most-active-contracts\"\n",
    "url = 'https://www.nseindia.com/api/snapshot-derivatives-equity?index=oi'\n",
    "default_header = {\n",
    "    \"User-Agent\": \"Mozilla/5.0 (Windows NT 10.0; Win64; x64) AppleWebKit/537.36 (KHTML, like Gecko) Chrome/129.0.0.0 Safari/537.36\"\n",
    "}\n",
    "\n",
    "header = {\n",
    "             \"User-Agent\": \"Mozilla/5.0 (Windows NT 10.0; Win64; x64) AppleWebKit/537.36 (KHTML, like Gecko) Chrome/130.0.0.0 Safari/537.36\",\n",
    "             \"Accept-Language\": \"en-US,en;q=0.9,hi;q=0.8\"\n",
    "            }\n",
    "\n",
    "\n",
    "session = requests.session()\n",
    "nse_live = session.get(origin_url, headers=default_header)\n",
    "cookies = nse_live.cookies\n",
    "session.get(url, headers=header, cookies=cookies)\n"
   ]
  },
  {
   "cell_type": "code",
   "execution_count": 12,
   "metadata": {},
   "outputs": [],
   "source": [
    "columns = [\n",
    "    \"underlying\", \"expiryDate\", \"optionType\", \"strikePrice\", \"lastPrice\", \"numberOfContractsTraded\",\n",
    "    \"totalTurnover\", \"openInterest\", \"underlyingValue\", \"pChange\", \"timestamp\"\n",
    "]\n",
    "# Create an empty DataFrame\n",
    "filter_df = pd.DataFrame(columns=columns)"
   ]
  },
  {
   "cell_type": "code",
   "execution_count": 12,
   "metadata": {
    "colab": {
     "background_save": true,
     "base_uri": "https://localhost:8080/",
     "height": 572
    },
    "id": "a12e4019"
   },
   "outputs": [
    {
     "name": "stdout",
     "output_type": "stream",
     "text": [
      "trying to retry to re-slove issue\n"
     ]
    }
   ],
   "source": [
    "def main_dis_run(filter_df):\n",
    "  try:\n",
    "    while True:\n",
    "      clear_output(wait=True)\n",
    "      data = session.get(url,headers=header).json()['value']['data']\n",
    "      df = pd.DataFrame(data)\n",
    "      df.drop(columns =['identifier','instrumentType','instrument','premiumTurnover','numberOfContractsTraded','totalTurnover','pChange'],inplace=True)\n",
    "      df_put = df[(df['underlying'] == 'NIFTY') & (df['optionType'].isin(['Put','-']))].sort_values(by=['strikePrice', 'openInterest'], ascending=True)\n",
    "      df_call = df[(df['underlying'] == 'NIFTY') & (df['optionType'] == 'Call')].sort_values(by=['strikePrice', 'openInterest'], ascending=True)\n",
    "      df_call.columns = ['C_' + col for col in df_call.columns ]\n",
    "      df_call = df_call.drop(columns=['C_underlying','C_underlyingValue'])\n",
    "      df_call['strikePrice'] = df_call['C_strikePrice']\n",
    "      df_call.drop(columns=['C_strikePrice'])\n",
    "      df_merged = pd.merge(df_put, df_call, left_on='strikePrice', right_on='strikePrice', how='outer')\n",
    "\n",
    "      df_merged['expiryDate'] = df_merged['expiryDate'].combine_first(df_merged['C_expiryDate'])\n",
    "      df_merged['optionType'] = df_merged['optionType'].combine_first(df_merged['C_optionType'])\n",
    "      df_merged['lastPrice'] = df_merged['lastPrice'].combine_first(df_merged['C_lastPrice'])\n",
    "      df_merged = df_merged.drop(columns = ['C_expiryDate','C_optionType','C_strikePrice','C_lastPrice'])\n",
    "\n",
    "      df_merged['underlying'] = df_merged['underlying'].fillna('NIFTY')\n",
    "\n",
    "      # Fill missing 'underlyingValue' with the first non-null value\n",
    "      first_value = df_merged['underlyingValue'].dropna().iloc[0]\n",
    "      df_merged['underlyingValue'] = df_merged['underlyingValue'].fillna(first_value)\n",
    "      display(df_merged)\n",
    "      time.sleep(5)\n",
    "  except Exception as e:\n",
    "      clear_output(wait=True)\n",
    "      print(f'trying to retry to re-slove issue')\n",
    "      # raise e\n",
    "      main_dis_run(filter_df)\n",
    "\n",
    "main_dis_run(filter_df)"
   ]
  },
  {
   "cell_type": "code",
   "execution_count": null,
   "metadata": {},
   "outputs": [],
   "source": [
    "# df = pd.read_csv('D:/badri/OptionChainData/nifty/nifty.csv')\n",
    "# df_unique = df.drop_duplicates(subset=df.columns.difference(['timestamp']), keep='last')"
   ]
  }
 ],
 "metadata": {
  "colab": {
   "name": "",
   "version": ""
  },
  "kernelspec": {
   "display_name": "Python 3",
   "language": "python",
   "name": "python3"
  },
  "language_info": {
   "codemirror_mode": {
    "name": "ipython",
    "version": 3
   },
   "file_extension": ".py",
   "mimetype": "text/x-python",
   "name": "python",
   "nbconvert_exporter": "python",
   "pygments_lexer": "ipython3",
   "version": "3.12.4"
  }
 },
 "nbformat": 4,
 "nbformat_minor": 5
}
