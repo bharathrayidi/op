{
 "cells": [
  {
   "cell_type": "code",
   "execution_count": 1,
   "metadata": {
    "executionInfo": {
     "elapsed": 4,
     "status": "ok",
     "timestamp": 1718600348982,
     "user": {
      "displayName": "Bharath Kumar",
      "userId": "13231539308280552119"
     },
     "user_tz": -330
    },
    "id": "32f15ea8"
   },
   "outputs": [],
   "source": [
    "from IPython.display import display, HTML,clear_output\n",
    "# css = \"\"\"\n",
    "# .output {\n",
    "# flex-direction: row;\n",
    "# flex-wrap: wrap;\n",
    "# }\n",
    "# \"\"\"\n",
    "\n",
    "# HTML('<style>{}</style>'.format(css))"
   ]
  },
  {
   "cell_type": "code",
   "execution_count": 2,
   "metadata": {
    "executionInfo": {
     "elapsed": 1699,
     "status": "ok",
     "timestamp": 1718600352364,
     "user": {
      "displayName": "Bharath Kumar",
      "userId": "13231539308280552119"
     },
     "user_tz": -330
    },
    "id": "bbc5a5b2"
   },
   "outputs": [],
   "source": [
    "import warnings\n",
    "warnings.simplefilter(action='ignore', category=FutureWarning)"
   ]
  },
  {
   "cell_type": "code",
   "execution_count": 3,
   "metadata": {
    "executionInfo": {
     "elapsed": 3023,
     "status": "ok",
     "timestamp": 1718600401741,
     "user": {
      "displayName": "Bharath Kumar",
      "userId": "13231539308280552119"
     },
     "user_tz": -330
    },
    "id": "b73540da"
   },
   "outputs": [],
   "source": [
    "# %pip install --no-cache-dir matplotlib\n",
    "\n",
    "# from pandasql import sqldf\n",
    "import requests\n",
    "import brotli\n",
    "from datetime import datetime\n",
    "import time\n",
    "from bs4 import BeautifulSoup\n",
    "import pandas as pd\n",
    "import numpy as np\n",
    "import matplotlib.pyplot as plt\n",
    "import json"
   ]
  },
  {
   "cell_type": "code",
   "execution_count": 4,
   "metadata": {
    "executionInfo": {
     "elapsed": 9,
     "status": "ok",
     "timestamp": 1718600401742,
     "user": {
      "displayName": "Bharath Kumar",
      "userId": "13231539308280552119"
     },
     "user_tz": -330
    },
    "id": "PA5eHJ_WVHyp"
   },
   "outputs": [],
   "source": [
    "pd.options.mode.copy_on_write = True"
   ]
  },
  {
   "cell_type": "code",
   "execution_count": 5,
   "metadata": {
    "executionInfo": {
     "elapsed": 8,
     "status": "ok",
     "timestamp": 1718600401742,
     "user": {
      "displayName": "Bharath Kumar",
      "userId": "13231539308280552119"
     },
     "user_tz": -330
    },
    "id": "9dc58e17"
   },
   "outputs": [
    {
     "data": {
      "text/plain": [
       "<Response [200]>"
      ]
     },
     "execution_count": 5,
     "metadata": {},
     "output_type": "execute_result"
    }
   ],
   "source": [
    "origin_url=\"https://www.nseindia.com/market-data/most-active-contracts\"\n",
    "url = 'https://www.nseindia.com/api/snapshot-derivatives-equity?index=oi'\n",
    "default_header = {\n",
    "    \"User-Agent\": \"Mozilla/5.0 (Windows NT 10.0; Win64; x64) AppleWebKit/537.36 (KHTML, like Gecko) Chrome/129.0.0.0 Safari/537.36\"\n",
    "}\n",
    "\n",
    "header = {\n",
    "             \"User-Agent\": \"Mozilla/5.0 (Windows NT 10.0; Win64; x64) AppleWebKit/537.36 (KHTML, like Gecko) Chrome/130.0.0.0 Safari/537.36\",\n",
    "             \"Accept-Language\": \"en-US,en;q=0.9,hi;q=0.8\"\n",
    "            }\n",
    "\n",
    "\n",
    "session = requests.session()\n",
    "nse_live = session.get(origin_url, headers=default_header)\n",
    "cookies = nse_live.cookies\n",
    "session.get(url, headers=header, cookies=cookies)\n"
   ]
  },
  {
   "cell_type": "code",
   "execution_count": 6,
   "id": "dd4e004c",
   "metadata": {},
   "outputs": [],
   "source": [
    "v_df = pd.DataFrame(session.get(url, headers=header, cookies=cookies).json()['value']['data'])"
   ]
  },
  {
   "cell_type": "code",
   "execution_count": 7,
   "metadata": {},
   "outputs": [],
   "source": [
    "columns = [\n",
    "    \"underlying\", \"expiryDate\", \"optionType\", \"strikePrice\", \"lastPrice\", \"numberOfContractsTraded\",\n",
    "    \"totalTurnover\", \"openInterest\", \"underlyingValue\", \"pChange\", \"timestamp\"\n",
    "]\n",
    "# Create an empty DataFrame\n",
    "filter_df = pd.DataFrame(columns=columns)"
   ]
  },
  {
   "cell_type": "code",
   "execution_count": null,
   "metadata": {
    "colab": {
     "background_save": true,
     "base_uri": "https://localhost:8080/",
     "height": 572
    },
    "id": "a12e4019"
   },
   "outputs": [
    {
     "data": {
      "text/html": [
       "<div>\n",
       "<style scoped>\n",
       "    .dataframe tbody tr th:only-of-type {\n",
       "        vertical-align: middle;\n",
       "    }\n",
       "\n",
       "    .dataframe tbody tr th {\n",
       "        vertical-align: top;\n",
       "    }\n",
       "\n",
       "    .dataframe thead th {\n",
       "        text-align: right;\n",
       "    }\n",
       "</style>\n",
       "<table border=\"1\" class=\"dataframe\">\n",
       "  <thead>\n",
       "    <tr style=\"text-align: right;\">\n",
       "      <th></th>\n",
       "      <th>underlying</th>\n",
       "      <th>expiryDate</th>\n",
       "      <th>optionType</th>\n",
       "      <th>strikePrice</th>\n",
       "      <th>lastPrice</th>\n",
       "      <th>numberOfContractsTraded</th>\n",
       "      <th>totalTurnover</th>\n",
       "      <th>openInterest</th>\n",
       "      <th>underlyingValue</th>\n",
       "      <th>pChange</th>\n",
       "    </tr>\n",
       "  </thead>\n",
       "  <tbody>\n",
       "    <tr>\n",
       "      <th>0</th>\n",
       "      <td>NIFTY</td>\n",
       "      <td>26-Jun-2025</td>\n",
       "      <td>-</td>\n",
       "      <td>0</td>\n",
       "      <td>24900.40</td>\n",
       "      <td>27853</td>\n",
       "      <td>530988.299400</td>\n",
       "      <td>154921</td>\n",
       "      <td>24857.65</td>\n",
       "      <td>0.127067</td>\n",
       "    </tr>\n",
       "    <tr>\n",
       "      <th>18</th>\n",
       "      <td>NIFTY</td>\n",
       "      <td>19-Jun-2025</td>\n",
       "      <td>Put</td>\n",
       "      <td>24000</td>\n",
       "      <td>2.30</td>\n",
       "      <td>583113</td>\n",
       "      <td>1332.593220</td>\n",
       "      <td>138418</td>\n",
       "      <td>24857.65</td>\n",
       "      <td>-69.127517</td>\n",
       "    </tr>\n",
       "    <tr>\n",
       "      <th>15</th>\n",
       "      <td>NIFTY</td>\n",
       "      <td>19-Jun-2025</td>\n",
       "      <td>Put</td>\n",
       "      <td>24500</td>\n",
       "      <td>11.20</td>\n",
       "      <td>535508</td>\n",
       "      <td>5892.458010</td>\n",
       "      <td>131917</td>\n",
       "      <td>24857.65</td>\n",
       "      <td>-60.770578</td>\n",
       "    </tr>\n",
       "    <tr>\n",
       "      <th>12</th>\n",
       "      <td>NIFTY</td>\n",
       "      <td>19-Jun-2025</td>\n",
       "      <td>Put</td>\n",
       "      <td>24700</td>\n",
       "      <td>32.15</td>\n",
       "      <td>789319</td>\n",
       "      <td>22136.474040</td>\n",
       "      <td>132608</td>\n",
       "      <td>24857.65</td>\n",
       "      <td>-47.381342</td>\n",
       "    </tr>\n",
       "    <tr>\n",
       "      <th>4</th>\n",
       "      <td>NIFTY</td>\n",
       "      <td>19-Jun-2025</td>\n",
       "      <td>Put</td>\n",
       "      <td>24800</td>\n",
       "      <td>57.10</td>\n",
       "      <td>1323070</td>\n",
       "      <td>63598.891785</td>\n",
       "      <td>174148</td>\n",
       "      <td>24857.65</td>\n",
       "      <td>-38.236885</td>\n",
       "    </tr>\n",
       "    <tr>\n",
       "      <th>2</th>\n",
       "      <td>NIFTY</td>\n",
       "      <td>19-Jun-2025</td>\n",
       "      <td>Put</td>\n",
       "      <td>24900</td>\n",
       "      <td>100.35</td>\n",
       "      <td>1606891</td>\n",
       "      <td>117962.436600</td>\n",
       "      <td>147263</td>\n",
       "      <td>24857.65</td>\n",
       "      <td>-27.987083</td>\n",
       "    </tr>\n",
       "    <tr>\n",
       "      <th>1</th>\n",
       "      <td>NIFTY</td>\n",
       "      <td>19-Jun-2025</td>\n",
       "      <td>Call</td>\n",
       "      <td>24900</td>\n",
       "      <td>72.50</td>\n",
       "      <td>2056170</td>\n",
       "      <td>152698.285425</td>\n",
       "      <td>165343</td>\n",
       "      <td>24857.65</td>\n",
       "      <td>-4.100529</td>\n",
       "    </tr>\n",
       "    <tr>\n",
       "      <th>3</th>\n",
       "      <td>NIFTY</td>\n",
       "      <td>19-Jun-2025</td>\n",
       "      <td>Call</td>\n",
       "      <td>25000</td>\n",
       "      <td>36.70</td>\n",
       "      <td>1897879</td>\n",
       "      <td>78755.655150</td>\n",
       "      <td>174373</td>\n",
       "      <td>24857.65</td>\n",
       "      <td>-11.245466</td>\n",
       "    </tr>\n",
       "    <tr>\n",
       "      <th>11</th>\n",
       "      <td>NIFTY</td>\n",
       "      <td>19-Jun-2025</td>\n",
       "      <td>Call</td>\n",
       "      <td>25100</td>\n",
       "      <td>17.50</td>\n",
       "      <td>1090522</td>\n",
       "      <td>23451.075780</td>\n",
       "      <td>127405</td>\n",
       "      <td>24857.65</td>\n",
       "      <td>-21.524664</td>\n",
       "    </tr>\n",
       "    <tr>\n",
       "      <th>14</th>\n",
       "      <td>NIFTY</td>\n",
       "      <td>19-Jun-2025</td>\n",
       "      <td>Call</td>\n",
       "      <td>25200</td>\n",
       "      <td>8.85</td>\n",
       "      <td>1036465</td>\n",
       "      <td>11098.409400</td>\n",
       "      <td>138965</td>\n",
       "      <td>24857.65</td>\n",
       "      <td>-27.160494</td>\n",
       "    </tr>\n",
       "    <tr>\n",
       "      <th>16</th>\n",
       "      <td>NIFTY</td>\n",
       "      <td>19-Jun-2025</td>\n",
       "      <td>Call</td>\n",
       "      <td>25300</td>\n",
       "      <td>4.45</td>\n",
       "      <td>769846</td>\n",
       "      <td>4033.702380</td>\n",
       "      <td>134370</td>\n",
       "      <td>24857.65</td>\n",
       "      <td>-33.082707</td>\n",
       "    </tr>\n",
       "    <tr>\n",
       "      <th>17</th>\n",
       "      <td>NIFTY</td>\n",
       "      <td>19-Jun-2025</td>\n",
       "      <td>Call</td>\n",
       "      <td>25500</td>\n",
       "      <td>1.80</td>\n",
       "      <td>994416</td>\n",
       "      <td>1766.874532</td>\n",
       "      <td>164082</td>\n",
       "      <td>24857.65</td>\n",
       "      <td>-34.545455</td>\n",
       "    </tr>\n",
       "    <tr>\n",
       "      <th>19</th>\n",
       "      <td>NIFTY</td>\n",
       "      <td>19-Jun-2025</td>\n",
       "      <td>Call</td>\n",
       "      <td>26000</td>\n",
       "      <td>0.80</td>\n",
       "      <td>176842</td>\n",
       "      <td>113.983485</td>\n",
       "      <td>136456</td>\n",
       "      <td>24857.65</td>\n",
       "      <td>-27.272727</td>\n",
       "    </tr>\n",
       "  </tbody>\n",
       "</table>\n",
       "</div>"
      ],
      "text/plain": [
       "   underlying   expiryDate optionType  strikePrice  lastPrice  \\\n",
       "0       NIFTY  26-Jun-2025          -            0   24900.40   \n",
       "18      NIFTY  19-Jun-2025        Put        24000       2.30   \n",
       "15      NIFTY  19-Jun-2025        Put        24500      11.20   \n",
       "12      NIFTY  19-Jun-2025        Put        24700      32.15   \n",
       "4       NIFTY  19-Jun-2025        Put        24800      57.10   \n",
       "2       NIFTY  19-Jun-2025        Put        24900     100.35   \n",
       "1       NIFTY  19-Jun-2025       Call        24900      72.50   \n",
       "3       NIFTY  19-Jun-2025       Call        25000      36.70   \n",
       "11      NIFTY  19-Jun-2025       Call        25100      17.50   \n",
       "14      NIFTY  19-Jun-2025       Call        25200       8.85   \n",
       "16      NIFTY  19-Jun-2025       Call        25300       4.45   \n",
       "17      NIFTY  19-Jun-2025       Call        25500       1.80   \n",
       "19      NIFTY  19-Jun-2025       Call        26000       0.80   \n",
       "\n",
       "    numberOfContractsTraded  totalTurnover  openInterest  underlyingValue  \\\n",
       "0                     27853  530988.299400        154921         24857.65   \n",
       "18                   583113    1332.593220        138418         24857.65   \n",
       "15                   535508    5892.458010        131917         24857.65   \n",
       "12                   789319   22136.474040        132608         24857.65   \n",
       "4                   1323070   63598.891785        174148         24857.65   \n",
       "2                   1606891  117962.436600        147263         24857.65   \n",
       "1                   2056170  152698.285425        165343         24857.65   \n",
       "3                   1897879   78755.655150        174373         24857.65   \n",
       "11                  1090522   23451.075780        127405         24857.65   \n",
       "14                  1036465   11098.409400        138965         24857.65   \n",
       "16                   769846    4033.702380        134370         24857.65   \n",
       "17                   994416    1766.874532        164082         24857.65   \n",
       "19                   176842     113.983485        136456         24857.65   \n",
       "\n",
       "      pChange  \n",
       "0    0.127067  \n",
       "18 -69.127517  \n",
       "15 -60.770578  \n",
       "12 -47.381342  \n",
       "4  -38.236885  \n",
       "2  -27.987083  \n",
       "1   -4.100529  \n",
       "3  -11.245466  \n",
       "11 -21.524664  \n",
       "14 -27.160494  \n",
       "16 -33.082707  \n",
       "17 -34.545455  \n",
       "19 -27.272727  "
      ]
     },
     "metadata": {},
     "output_type": "display_data"
    }
   ],
   "source": [
    "def main_dis_run(filter_df):\n",
    "  try:\n",
    "    while True:\n",
    "      clear_output(wait=True)\n",
    "      data = session.get(url,headers=header).json()['value']['data']\n",
    "      df = pd.DataFrame(data)\n",
    "      df.drop(columns =['identifier','instrumentType','instrument','premiumTurnover'],inplace=True)\n",
    "      filtered_df = df[(df['underlying'] == 'NIFTY')].sort_values(by=['strikePrice', 'openInterest'], ascending=True)\n",
    "      display(filtered_df)\n",
    "      time.sleep(5)\n",
    "  except Exception as e:\n",
    "      clear_output(wait=True)\n",
    "      print(f'trying to retry to re-slove issue')\n",
    "      # raise e\n",
    "      main_dis_run(filter_df)\n",
    "\n",
    "main_dis_run(filter_df)"
   ]
  },
  {
   "cell_type": "code",
   "execution_count": null,
   "metadata": {},
   "outputs": [],
   "source": [
    "# df = pd.read_csv('D:/badri/OptionChainData/nifty/nifty.csv')\n",
    "# df_unique = df.drop_duplicates(subset=df.columns.difference(['timestamp']), keep='last')"
   ]
  }
 ],
 "metadata": {
  "colab": {
   "name": "",
   "version": ""
  },
  "kernelspec": {
   "display_name": "Python 3",
   "language": "python",
   "name": "python3"
  },
  "language_info": {
   "codemirror_mode": {
    "name": "ipython",
    "version": 3
   },
   "file_extension": ".py",
   "mimetype": "text/x-python",
   "name": "python",
   "nbconvert_exporter": "python",
   "pygments_lexer": "ipython3",
   "version": "3.12.4"
  }
 },
 "nbformat": 4,
 "nbformat_minor": 5
}
